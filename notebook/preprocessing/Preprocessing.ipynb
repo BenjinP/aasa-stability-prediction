{
 "cells": [
  {
   "cell_type": "markdown",
   "metadata": {},
   "source": [
    "## Data preprocessing"
   ]
  },
  {
   "cell_type": "markdown",
   "metadata": {},
   "source": [
    "This notebook contains all code related to preprocessing of data, so it can be used later for Exploratory Data Analysis and Predictive Model Training"
   ]
  },
  {
   "cell_type": "markdown",
   "metadata": {},
   "source": [
    "### Importing necessary libraries"
   ]
  },
  {
   "cell_type": "code",
   "execution_count": 23,
   "metadata": {},
   "outputs": [],
   "source": [
    "import pandas as pd"
   ]
  },
  {
   "cell_type": "markdown",
   "metadata": {},
   "source": [
    "### Loading data "
   ]
  },
  {
   "cell_type": "code",
   "execution_count": 8,
   "metadata": {},
   "outputs": [],
   "source": [
    "data_url = \"https://github.com/Naio/aasa-stability-prediction/blob/master/data/raw/aasa_1stn_4lys_1bpi.xlsx?raw=true\"\n",
    "\n",
    "p1STN = pd.read_excel(data_url,sheet_name='1STN')\n",
    "p4LYZ = pd.read_excel(data_url,sheet_name='4LYZ')\n",
    "p1BPI = pd.read_excel(data_url,sheet_name='1BPI')"
   ]
  },
  {
   "cell_type": "markdown",
   "metadata": {},
   "source": [
    "### Conveniently renaming stability and protein name columns"
   ]
  },
  {
   "cell_type": "code",
   "execution_count": 9,
   "metadata": {},
   "outputs": [],
   "source": [
    "def rename_columns(dataframe):\n",
    "    return dataframe.rename(columns={'Unnamed: 0': 'id', 'Y': 'stability'})"
   ]
  },
  {
   "cell_type": "code",
   "execution_count": 10,
   "metadata": {},
   "outputs": [],
   "source": [
    "p1STN = rename_columns(p1STN)\n",
    "p4LYZ = rename_columns(p4LYZ)\n",
    "p1BPI = rename_columns(p1BPI)"
   ]
  },
  {
   "cell_type": "markdown",
   "metadata": {},
   "source": [
    "### Checking for dataset metadata"
   ]
  },
  {
   "cell_type": "markdown",
   "metadata": {},
   "source": [
    "For each dataset, there are 481 numeric columns, 10 for each of the 48 **_descriptors_**, and 1 for the **_stability change_**. One row is the data for the **_wild-type_** protein, while the remaining rows are the data of the **_mutations_**. There's an additional column that contains the identifier for each row. The identifier is either **_WT_**, which stands for \"wild-type\", or a descriptive name for the mutation. The number of examples per dataset is:\n",
    " - 1STN: 42 examples\n",
    " - 4LYZ: 51 examples \n",
    " - 1BPI: 53 examples"
   ]
  },
  {
   "cell_type": "code",
   "execution_count": 34,
   "metadata": {
    "scrolled": true
   },
   "outputs": [
    {
     "name": "stdout",
     "output_type": "stream",
     "text": [
      "<class 'pandas.core.frame.DataFrame'>\n",
      "RangeIndex: 42 entries, 0 to 41\n",
      "Columns: 482 entries, Unnamed: 0 to 10AASAf\n",
      "dtypes: float64(481), object(1)\n",
      "memory usage: 158.3+ KB\n"
     ]
    }
   ],
   "source": [
    "p1STN.info()"
   ]
  },
  {
   "cell_type": "code",
   "execution_count": 36,
   "metadata": {
    "scrolled": true
   },
   "outputs": [
    {
     "name": "stdout",
     "output_type": "stream",
     "text": [
      "<class 'pandas.core.frame.DataFrame'>\n",
      "RangeIndex: 51 entries, 0 to 50\n",
      "Columns: 482 entries, Unnamed: 0 to 10AASAf\n",
      "dtypes: float64(481), object(1)\n",
      "memory usage: 192.2+ KB\n"
     ]
    }
   ],
   "source": [
    "p4LYZ.info()"
   ]
  },
  {
   "cell_type": "code",
   "execution_count": 221,
   "metadata": {
    "scrolled": true
   },
   "outputs": [
    {
     "name": "stdout",
     "output_type": "stream",
     "text": [
      "<class 'pandas.core.frame.DataFrame'>\n",
      "RangeIndex: 53 entries, 0 to 52\n",
      "Data columns (total 50 columns):\n",
      " #   Column     Non-Null Count  Dtype  \n",
      "---  ------     --------------  -----  \n",
      " 0   id         53 non-null     object \n",
      " 1   stability  53 non-null     float64\n",
      " 2   AASAK0     53 non-null     float64\n",
      " 3   AASAHt     53 non-null     float64\n",
      " 4   AASAHP     53 non-null     float64\n",
      " 5   AASAP      53 non-null     float64\n",
      " 6   AASApHi    53 non-null     float64\n",
      " 7   AASApK'    53 non-null     float64\n",
      " 8   AASAMw     53 non-null     float64\n",
      " 9   AASAP1     53 non-null     float64\n",
      " 10  AASARf     53 non-null     float64\n",
      " 11  AASAm      53 non-null     float64\n",
      " 12  AASAHnc    53 non-null     float64\n",
      " 13  AASAEsm    53 non-null     float64\n",
      " 14  AASAE1     53 non-null     float64\n",
      " 15  AASAEt     53 non-null     float64\n",
      " 16  AASAPa     53 non-null     float64\n",
      " 17  AASAPb     53 non-null     float64\n",
      " 18  AASAPt     53 non-null     float64\n",
      " 19  AASAPC     53 non-null     float64\n",
      " 20  AASACa     53 non-null     float64\n",
      " 21  AASAF      53 non-null     float64\n",
      " 22  AASAPr     53 non-null     float64\n",
      " 23  AASARa     53 non-null     float64\n",
      " 24  AASANs     53 non-null     float64\n",
      " 25  AASAan     53 non-null     float64\n",
      " 26  AASAac     53 non-null     float64\n",
      " 27  AASAam     53 non-null     float64\n",
      " 28  AASAV0     53 non-null     float64\n",
      " 29  AASANm     53 non-null     float64\n",
      " 30  AASAN1     53 non-null     float64\n",
      " 31  AASAHgm    53 non-null     float64\n",
      " 32  AASAASAD   53 non-null     float64\n",
      " 33  AASAASAN   53 non-null     float64\n",
      " 34  AASADASA   53 non-null     float64\n",
      " 35  AASADGh    53 non-null     float64\n",
      " 36  AASAGhD    53 non-null     float64\n",
      " 37  AASAGhN    53 non-null     float64\n",
      " 38  AASADHh    53 non-null     float64\n",
      " 39  AASATDSh   53 non-null     float64\n",
      " 40  AASADCph   53 non-null     float64\n",
      " 41  AASADGc    53 non-null     float64\n",
      " 42  AASADHc    53 non-null     float64\n",
      " 43  AASATDSc   53 non-null     float64\n",
      " 44  AASADG     53 non-null     float64\n",
      " 45  AASADH     53 non-null     float64\n",
      " 46  AASATDS    53 non-null     float64\n",
      " 47  AASAV      53 non-null     float64\n",
      " 48  AASAs      53 non-null     float64\n",
      " 49  AASAf      53 non-null     float64\n",
      "dtypes: float64(49), object(1)\n",
      "memory usage: 20.8+ KB\n"
     ]
    }
   ],
   "source": [
    "p1BPI.info()"
   ]
  },
  {
   "cell_type": "markdown",
   "metadata": {},
   "source": [
    "### Checking for missing values"
   ]
  },
  {
   "cell_type": "markdown",
   "metadata": {},
   "source": [
    "There's no missing values in any dataset."
   ]
  },
  {
   "cell_type": "code",
   "execution_count": 11,
   "metadata": {},
   "outputs": [],
   "source": [
    "def number_of_missing_values(dataframe):\n",
    "    return (\n",
    "    dataframe.isnull() #Checks dataframe cell if it has a missing value. Returns a dataframe filled with boolean values. \n",
    "    .sum() # Returns the number of missing values per column.\n",
    "    .sum() # Outputs the number of missing values of the whole dataframe.\n",
    "    )"
   ]
  },
  {
   "cell_type": "code",
   "execution_count": 12,
   "metadata": {},
   "outputs": [
    {
     "name": "stdout",
     "output_type": "stream",
     "text": [
      "Number of missing values per dataset:\n",
      "  p1STN: 0\n",
      "  p4LYZ: 0\n",
      "  p1BPI: 0\n"
     ]
    }
   ],
   "source": [
    "print(\"Number of missing values per dataset:\")\n",
    "print(\"  p1STN:\", number_of_missing_values(p1STN))\n",
    "print(\"  p4LYZ:\", number_of_missing_values(p4LYZ))\n",
    "print(\"  p1BPI:\", number_of_missing_values(p1BPI))"
   ]
  },
  {
   "cell_type": "markdown",
   "metadata": {},
   "source": [
    "### Data reduction"
   ]
  },
  {
   "cell_type": "markdown",
   "metadata": {},
   "source": [
    "In order to inspect data in more detail, we first need to find a way to reduce the 480 columns. When collecting data, each descriptor of a protein is measured 10 times. So, we calculate the mean of the 10 measurements for each of the descriptors. Thus, our data of 480 columns is reduced to only 48. The 10 measurements for a descriptor are registered in ordered and contiguous columns of the dataset. An example is the first descriptor *_AASAK0_*, which measurements are *_1AASAK0_*, *_2AASAK0_*, ..., *_10AASAK0_*. All 3 datasets share the same format. The following functions are used to average the descriptors measurements."
   ]
  },
  {
   "cell_type": "code",
   "execution_count": 13,
   "metadata": {},
   "outputs": [],
   "source": [
    "#Returns the new dataframe containing the measurement means of the descriptors.\n",
    "def average_measurements(df):\n",
    "    #Creates a new dataframe from original 'name' and 'stability' columns\n",
    "    new_df = df.loc[:, ['id', 'stability']]\n",
    "    \n",
    "    #Creates a dictionary that maps the descriptor name to its measurements mean.\n",
    "    means = {descriptor_name: measurements_mean for descriptor_name, measurements_mean in descriptors_means(df)}\n",
    "    \n",
    "    #Creates columns for each descriptor in the new dataframe.\n",
    "    return new_df.assign(**means)"
   ]
  },
  {
   "cell_type": "code",
   "execution_count": 14,
   "metadata": {},
   "outputs": [],
   "source": [
    "#For each one of the 48 descriptors, this generator calculates the mean of its 10 measurements.\n",
    "def descriptors_means(df):\n",
    "    for i in range(48): #For each one of the 48 descriptors\n",
    "        \n",
    "        # Extracts a dataframe containing measurements for a single descriptor\n",
    "        descriptor_measurements = df.iloc[:, 10 * i + 2: 10 * i + 12]\n",
    "        # Gets descriptor name from the first column of the measurements dataframe\n",
    "        descriptor_name = descriptor_measurements.columns[1][1:]\n",
    "        \n",
    "        # Calculates and yields the mean over the 10 measurement columns\n",
    "        yield descriptor_name, descriptor_measurements.mean(axis ='columns') \n",
    "    "
   ]
  },
  {
   "cell_type": "markdown",
   "metadata": {},
   "source": [
    "The following code reduces the data to 50 columns, including stability and protein name."
   ]
  },
  {
   "cell_type": "code",
   "execution_count": 15,
   "metadata": {},
   "outputs": [],
   "source": [
    "p1STN = average_measurements(p1STN)\n",
    "p4LYZ = average_measurements(p4LYZ)\n",
    "p1BPI = average_measurements(p1BPI)"
   ]
  },
  {
   "cell_type": "markdown",
   "metadata": {},
   "source": [
    "### Exporting to preprocessed data to CSV"
   ]
  },
  {
   "cell_type": "markdown",
   "metadata": {},
   "source": [
    "It is convenient to export the data already preprocessed so it can be used later for EDA and Predictive Modeling "
   ]
  },
  {
   "cell_type": "code",
   "execution_count": 2,
   "metadata": {},
   "outputs": [],
   "source": [
    "processed_data_path = \"../../data/processed/\""
   ]
  },
  {
   "cell_type": "code",
   "execution_count": 24,
   "metadata": {},
   "outputs": [],
   "source": [
    "p1STN.to_csv(path_or_buf = processed_data_path + 'p1STN' + '.csv', index=False)\n",
    "p4LYZ.to_csv(path_or_buf = processed_data_path + 'p4LYZ' + '.csv', index=False)\n",
    "p1BPI.to_csv(path_or_buf = processed_data_path + 'p1BPI' + '.csv', index=False)"
   ]
  }
 ],
 "metadata": {
  "kernelspec": {
   "display_name": "Python 3",
   "language": "python",
   "name": "python3"
  },
  "language_info": {
   "codemirror_mode": {
    "name": "ipython",
    "version": 3
   },
   "file_extension": ".py",
   "mimetype": "text/x-python",
   "name": "python",
   "nbconvert_exporter": "python",
   "pygments_lexer": "ipython3",
   "version": "3.7.7"
  }
 },
 "nbformat": 4,
 "nbformat_minor": 4
}
